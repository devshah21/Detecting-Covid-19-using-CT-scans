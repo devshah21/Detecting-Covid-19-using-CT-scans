{
  "nbformat": 4,
  "nbformat_minor": 0,
  "metadata": {
    "colab": {
      "provenance": [],
      "authorship_tag": "ABX9TyOmB4YVd6eLc4InhfDaorq9",
      "include_colab_link": true
    },
    "kernelspec": {
      "name": "python3",
      "display_name": "Python 3"
    },
    "language_info": {
      "name": "python"
    }
  },
  "cells": [
    {
      "cell_type": "markdown",
      "metadata": {
        "id": "view-in-github",
        "colab_type": "text"
      },
      "source": [
        "<a href=\"https://colab.research.google.com/github/devshah21/Detecting-Covid-19-using-CT-scans/blob/main/detecting_covid_from_CTscans.ipynb\" target=\"_parent\"><img src=\"https://colab.research.google.com/assets/colab-badge.svg\" alt=\"Open In Colab\"/></a>"
      ]
    },
    {
      "cell_type": "code",
      "execution_count": 1,
      "metadata": {
        "colab": {
          "base_uri": "https://localhost:8080/"
        },
        "id": "WOhXOCeoxYky",
        "outputId": "7a45ca5b-09ce-4553-a1e3-5f69f23273c2"
      },
      "outputs": [
        {
          "output_type": "stream",
          "name": "stdout",
          "text": [
            "Looking in indexes: https://pypi.org/simple, https://us-python.pkg.dev/colab-wheels/public/simple/\n",
            "Requirement already satisfied: kaggle in /usr/local/lib/python3.8/dist-packages (1.5.12)\n",
            "Requirement already satisfied: urllib3 in /usr/local/lib/python3.8/dist-packages (from kaggle) (1.24.3)\n",
            "Requirement already satisfied: requests in /usr/local/lib/python3.8/dist-packages (from kaggle) (2.25.1)\n",
            "Requirement already satisfied: python-dateutil in /usr/local/lib/python3.8/dist-packages (from kaggle) (2.8.2)\n",
            "Requirement already satisfied: tqdm in /usr/local/lib/python3.8/dist-packages (from kaggle) (4.64.1)\n",
            "Requirement already satisfied: python-slugify in /usr/local/lib/python3.8/dist-packages (from kaggle) (7.0.0)\n",
            "Requirement already satisfied: six>=1.10 in /usr/local/lib/python3.8/dist-packages (from kaggle) (1.15.0)\n",
            "Requirement already satisfied: certifi in /usr/local/lib/python3.8/dist-packages (from kaggle) (2022.12.7)\n",
            "Requirement already satisfied: text-unidecode>=1.3 in /usr/local/lib/python3.8/dist-packages (from python-slugify->kaggle) (1.3)\n",
            "Requirement already satisfied: idna<3,>=2.5 in /usr/local/lib/python3.8/dist-packages (from requests->kaggle) (2.10)\n",
            "Requirement already satisfied: chardet<5,>=3.0.2 in /usr/local/lib/python3.8/dist-packages (from requests->kaggle) (4.0.0)\n"
          ]
        }
      ],
      "source": [
        "! pip install kaggle"
      ]
    },
    {
      "cell_type": "code",
      "source": [
        "from google.colab import files\n",
        "files.upload()"
      ],
      "metadata": {
        "colab": {
          "base_uri": "https://localhost:8080/",
          "height": 92
        },
        "id": "w7RnX9XTzdqh",
        "outputId": "6fdbf96b-a46e-4730-dcf8-e0744311b0a4"
      },
      "execution_count": 2,
      "outputs": [
        {
          "output_type": "display_data",
          "data": {
            "text/plain": [
              "<IPython.core.display.HTML object>"
            ],
            "text/html": [
              "\n",
              "     <input type=\"file\" id=\"files-e10146e8-bccb-4eb2-b746-af589648f554\" name=\"files[]\" multiple disabled\n",
              "        style=\"border:none\" />\n",
              "     <output id=\"result-e10146e8-bccb-4eb2-b746-af589648f554\">\n",
              "      Upload widget is only available when the cell has been executed in the\n",
              "      current browser session. Please rerun this cell to enable.\n",
              "      </output>\n",
              "      <script>// Copyright 2017 Google LLC\n",
              "//\n",
              "// Licensed under the Apache License, Version 2.0 (the \"License\");\n",
              "// you may not use this file except in compliance with the License.\n",
              "// You may obtain a copy of the License at\n",
              "//\n",
              "//      http://www.apache.org/licenses/LICENSE-2.0\n",
              "//\n",
              "// Unless required by applicable law or agreed to in writing, software\n",
              "// distributed under the License is distributed on an \"AS IS\" BASIS,\n",
              "// WITHOUT WARRANTIES OR CONDITIONS OF ANY KIND, either express or implied.\n",
              "// See the License for the specific language governing permissions and\n",
              "// limitations under the License.\n",
              "\n",
              "/**\n",
              " * @fileoverview Helpers for google.colab Python module.\n",
              " */\n",
              "(function(scope) {\n",
              "function span(text, styleAttributes = {}) {\n",
              "  const element = document.createElement('span');\n",
              "  element.textContent = text;\n",
              "  for (const key of Object.keys(styleAttributes)) {\n",
              "    element.style[key] = styleAttributes[key];\n",
              "  }\n",
              "  return element;\n",
              "}\n",
              "\n",
              "// Max number of bytes which will be uploaded at a time.\n",
              "const MAX_PAYLOAD_SIZE = 100 * 1024;\n",
              "\n",
              "function _uploadFiles(inputId, outputId) {\n",
              "  const steps = uploadFilesStep(inputId, outputId);\n",
              "  const outputElement = document.getElementById(outputId);\n",
              "  // Cache steps on the outputElement to make it available for the next call\n",
              "  // to uploadFilesContinue from Python.\n",
              "  outputElement.steps = steps;\n",
              "\n",
              "  return _uploadFilesContinue(outputId);\n",
              "}\n",
              "\n",
              "// This is roughly an async generator (not supported in the browser yet),\n",
              "// where there are multiple asynchronous steps and the Python side is going\n",
              "// to poll for completion of each step.\n",
              "// This uses a Promise to block the python side on completion of each step,\n",
              "// then passes the result of the previous step as the input to the next step.\n",
              "function _uploadFilesContinue(outputId) {\n",
              "  const outputElement = document.getElementById(outputId);\n",
              "  const steps = outputElement.steps;\n",
              "\n",
              "  const next = steps.next(outputElement.lastPromiseValue);\n",
              "  return Promise.resolve(next.value.promise).then((value) => {\n",
              "    // Cache the last promise value to make it available to the next\n",
              "    // step of the generator.\n",
              "    outputElement.lastPromiseValue = value;\n",
              "    return next.value.response;\n",
              "  });\n",
              "}\n",
              "\n",
              "/**\n",
              " * Generator function which is called between each async step of the upload\n",
              " * process.\n",
              " * @param {string} inputId Element ID of the input file picker element.\n",
              " * @param {string} outputId Element ID of the output display.\n",
              " * @return {!Iterable<!Object>} Iterable of next steps.\n",
              " */\n",
              "function* uploadFilesStep(inputId, outputId) {\n",
              "  const inputElement = document.getElementById(inputId);\n",
              "  inputElement.disabled = false;\n",
              "\n",
              "  const outputElement = document.getElementById(outputId);\n",
              "  outputElement.innerHTML = '';\n",
              "\n",
              "  const pickedPromise = new Promise((resolve) => {\n",
              "    inputElement.addEventListener('change', (e) => {\n",
              "      resolve(e.target.files);\n",
              "    });\n",
              "  });\n",
              "\n",
              "  const cancel = document.createElement('button');\n",
              "  inputElement.parentElement.appendChild(cancel);\n",
              "  cancel.textContent = 'Cancel upload';\n",
              "  const cancelPromise = new Promise((resolve) => {\n",
              "    cancel.onclick = () => {\n",
              "      resolve(null);\n",
              "    };\n",
              "  });\n",
              "\n",
              "  // Wait for the user to pick the files.\n",
              "  const files = yield {\n",
              "    promise: Promise.race([pickedPromise, cancelPromise]),\n",
              "    response: {\n",
              "      action: 'starting',\n",
              "    }\n",
              "  };\n",
              "\n",
              "  cancel.remove();\n",
              "\n",
              "  // Disable the input element since further picks are not allowed.\n",
              "  inputElement.disabled = true;\n",
              "\n",
              "  if (!files) {\n",
              "    return {\n",
              "      response: {\n",
              "        action: 'complete',\n",
              "      }\n",
              "    };\n",
              "  }\n",
              "\n",
              "  for (const file of files) {\n",
              "    const li = document.createElement('li');\n",
              "    li.append(span(file.name, {fontWeight: 'bold'}));\n",
              "    li.append(span(\n",
              "        `(${file.type || 'n/a'}) - ${file.size} bytes, ` +\n",
              "        `last modified: ${\n",
              "            file.lastModifiedDate ? file.lastModifiedDate.toLocaleDateString() :\n",
              "                                    'n/a'} - `));\n",
              "    const percent = span('0% done');\n",
              "    li.appendChild(percent);\n",
              "\n",
              "    outputElement.appendChild(li);\n",
              "\n",
              "    const fileDataPromise = new Promise((resolve) => {\n",
              "      const reader = new FileReader();\n",
              "      reader.onload = (e) => {\n",
              "        resolve(e.target.result);\n",
              "      };\n",
              "      reader.readAsArrayBuffer(file);\n",
              "    });\n",
              "    // Wait for the data to be ready.\n",
              "    let fileData = yield {\n",
              "      promise: fileDataPromise,\n",
              "      response: {\n",
              "        action: 'continue',\n",
              "      }\n",
              "    };\n",
              "\n",
              "    // Use a chunked sending to avoid message size limits. See b/62115660.\n",
              "    let position = 0;\n",
              "    do {\n",
              "      const length = Math.min(fileData.byteLength - position, MAX_PAYLOAD_SIZE);\n",
              "      const chunk = new Uint8Array(fileData, position, length);\n",
              "      position += length;\n",
              "\n",
              "      const base64 = btoa(String.fromCharCode.apply(null, chunk));\n",
              "      yield {\n",
              "        response: {\n",
              "          action: 'append',\n",
              "          file: file.name,\n",
              "          data: base64,\n",
              "        },\n",
              "      };\n",
              "\n",
              "      let percentDone = fileData.byteLength === 0 ?\n",
              "          100 :\n",
              "          Math.round((position / fileData.byteLength) * 100);\n",
              "      percent.textContent = `${percentDone}% done`;\n",
              "\n",
              "    } while (position < fileData.byteLength);\n",
              "  }\n",
              "\n",
              "  // All done.\n",
              "  yield {\n",
              "    response: {\n",
              "      action: 'complete',\n",
              "    }\n",
              "  };\n",
              "}\n",
              "\n",
              "scope.google = scope.google || {};\n",
              "scope.google.colab = scope.google.colab || {};\n",
              "scope.google.colab._files = {\n",
              "  _uploadFiles,\n",
              "  _uploadFilesContinue,\n",
              "};\n",
              "})(self);\n",
              "</script> "
            ]
          },
          "metadata": {}
        },
        {
          "output_type": "stream",
          "name": "stdout",
          "text": [
            "Saving kaggle.json to kaggle.json\n"
          ]
        },
        {
          "output_type": "execute_result",
          "data": {
            "text/plain": [
              "{'kaggle.json': b'{\"username\":\"devshah2021\",\"key\":\"9ee02bf544ec28e077278fdc69adfb4e\"}'}"
            ]
          },
          "metadata": {},
          "execution_count": 2
        }
      ]
    },
    {
      "cell_type": "code",
      "source": [
        "! mkdir ~/.kaggle"
      ],
      "metadata": {
        "colab": {
          "base_uri": "https://localhost:8080/"
        },
        "id": "Ql9xckYmzuF0",
        "outputId": "dc0811a2-8bfe-4a3f-dc1e-5525893946cd"
      },
      "execution_count": 14,
      "outputs": [
        {
          "output_type": "stream",
          "name": "stdout",
          "text": [
            "mkdir: cannot create directory ‘/root/.kaggle’: File exists\n"
          ]
        }
      ]
    },
    {
      "cell_type": "code",
      "source": [
        "! cp kaggle.json ~/.kaggle/"
      ],
      "metadata": {
        "id": "BQi2bCp-yz0I"
      },
      "execution_count": 15,
      "outputs": []
    },
    {
      "cell_type": "code",
      "source": [
        "! chmod 600 ~/.kaggle/kaggle.json"
      ],
      "metadata": {
        "id": "hl3Ga0cqz6-Q"
      },
      "execution_count": 16,
      "outputs": []
    },
    {
      "cell_type": "code",
      "source": [
        "! kaggle datasets list"
      ],
      "metadata": {
        "colab": {
          "base_uri": "https://localhost:8080/"
        },
        "id": "sLrXm3hUz-Uc",
        "outputId": "5935ce38-405a-4aac-8011-8d4b768f6b34"
      },
      "execution_count": 17,
      "outputs": [
        {
          "output_type": "stream",
          "name": "stdout",
          "text": [
            "ref                                                           title                                               size  lastUpdated          downloadCount  voteCount  usabilityRating  \n",
            "------------------------------------------------------------  -------------------------------------------------  -----  -------------------  -------------  ---------  ---------------  \n",
            "meirnizri/covid19-dataset                                     COVID-19 Dataset                                     5MB  2022-11-13 15:47:17          16483        466  1.0              \n",
            "devrimtuner/list-of-moststreamed-songs-on-spotify             Top 100 Spotify Songs👑🎤🎧🎼                            3KB  2022-12-30 05:42:54            815         43  1.0              \n",
            "thedevastator/analyzing-credit-card-spending-habits-in-india  Credit Card Spending Habits in India               319KB  2022-12-14 07:30:37           2181         68  1.0              \n",
            "die9origephit/fifa-world-cup-2022-complete-dataset            Fifa World Cup 2022: Complete Dataset                7KB  2022-12-18 22:51:11           4062        142  1.0              \n",
            "michals22/coffee-dataset                                      Coffee dataset                                      24KB  2022-12-15 20:02:12           4312         95  1.0              \n",
            "heemalichaudhari/netflix-movies-and-series                    Netflix Movies and Series                            2MB  2022-12-22 13:34:22           1428         37  0.8235294        \n",
            "sejungjenn/spotify-best-songs-of-2022                         Spotify: Winner Tracks Audio Features🎹              38KB  2022-12-28 08:06:49            348         25  1.0              \n",
            "thedevastator/unlock-profits-with-e-commerce-sales-data       E-Commerce Sales Dataset                             6MB  2022-12-03 09:27:17           3573         84  1.0              \n",
            "aklimarimi/qs-world-ranked-universities-20182022              QS World ranked Universities (2018-2022)            51KB  2022-12-28 03:53:39            781         39  1.0              \n",
            "rajeshrampure/black-friday-sale                               Black Friday Sale                                    5MB  2022-12-24 09:37:49           1176         35  1.0              \n",
            "devrimtuner/highestpaid-athletes                              HIGHEST-PAID ATHLETES⚽️🏀🏈⚾️🥎🎾                        1KB  2022-12-29 01:29:51            345         29  1.0              \n",
            "heemalichaudhari/shopping                                     Shopping                                            12KB  2022-12-26 14:25:07            555         29  0.9411765        \n",
            "milanvaddoriya/old-car-price-prediction                       Old car price prediction                           105KB  2022-12-24 15:38:56            586         32  1.0              \n",
            "thedevastator/how-does-daily-yoga-impact-screen-time-habits   How Does Daily Yoga Impact Screen Time Habits       742B  2022-12-14 04:10:56            899         29  1.0              \n",
            "thedevastator/uncovering-factors-that-affect-used-car-prices  Used Cars                                           18MB  2022-12-06 13:36:08           1326         45  1.0              \n",
            "devrimtuner/list-of-mostfollowed-instagram-accounts           (TOP 50)List of most-followed Instagram accounts👑    2KB  2022-12-30 07:52:00            388         28  1.0              \n",
            "thedevastator/jobs-dataset-from-glassdoor                     Salary Prediction                                    3MB  2022-11-16 13:52:31           8743        187  1.0              \n",
            "dansbecker/melbourne-housing-snapshot                         Melbourne Housing Snapshot                         451KB  2018-06-05 12:52:24         103657       1193  0.7058824        \n",
            "mattop/best-selling-game-boy-video-games                      Best Selling Game Boy Video Games                    2KB  2022-12-17 18:41:38            418         27  0.9705882        \n",
            "rajeshrampure/zomato-dataset                                  Zomato Dataset                                      89MB  2022-12-23 07:38:07            724         28  1.0              \n"
          ]
        }
      ]
    },
    {
      "cell_type": "code",
      "source": [
        "!kaggle datasets download -d luisblanche/covidct"
      ],
      "metadata": {
        "colab": {
          "base_uri": "https://localhost:8080/"
        },
        "id": "jUgf08aw0W4Z",
        "outputId": "1f0304fd-3771-4590-d249-064dfcf9190e"
      },
      "execution_count": 18,
      "outputs": [
        {
          "output_type": "stream",
          "name": "stdout",
          "text": [
            "Downloading covidct.zip to /content\n",
            " 85% 73.0M/85.8M [00:01<00:00, 58.7MB/s]\n",
            "100% 85.8M/85.8M [00:01<00:00, 59.7MB/s]\n"
          ]
        }
      ]
    },
    {
      "cell_type": "code",
      "source": [
        "!unzip /content/covidct.zip"
      ],
      "metadata": {
        "id": "4zyGejFj67WE"
      },
      "execution_count": null,
      "outputs": []
    },
    {
      "cell_type": "code",
      "source": [
        "!mkdir images\n",
        "\n",
        "import shutil\n",
        "\n",
        "shutil.move(\"/content/CT_COVID\", \"/content/images/CT_COVID\")\n",
        "shutil.move(\"/content/CT_NonCOVID\", \"/content/images/CT_NonCOVID\")"
      ],
      "metadata": {
        "colab": {
          "base_uri": "https://localhost:8080/",
          "height": 35
        },
        "id": "PtW6cIwxTnfU",
        "outputId": "07ad1541-743f-4ac0-bace-7664eebdec19"
      },
      "execution_count": 20,
      "outputs": [
        {
          "output_type": "execute_result",
          "data": {
            "text/plain": [
              "'/content/images/CT_NonCOVID'"
            ],
            "application/vnd.google.colaboratory.intrinsic+json": {
              "type": "string"
            }
          },
          "metadata": {},
          "execution_count": 20
        }
      ]
    },
    {
      "cell_type": "code",
      "source": [
        "import os\n",
        "\n",
        "covidfiles = os.path.join('/content/images/CT_COVID')\n",
        "noncovidfiles = os.path.join('/content/images/CT_COVID')\n",
        "print(len(os.listdir(covidfiles)))\n",
        "print(len(os.listdir(noncovidfiles)))"
      ],
      "metadata": {
        "colab": {
          "base_uri": "https://localhost:8080/"
        },
        "id": "BfiDfVcuBIJM",
        "outputId": "76b26165-f7d6-4dd3-c852-f39fac7ddd00"
      },
      "execution_count": 21,
      "outputs": [
        {
          "output_type": "stream",
          "name": "stdout",
          "text": [
            "349\n",
            "349\n"
          ]
        }
      ]
    },
    {
      "cell_type": "code",
      "source": [
        "import glob\n",
        "\n",
        "\n",
        "covidimages = glob.glob(os.path.join(covidfiles, '*.png'))\n",
        "noncovidimages = glob.glob(os.path.join(noncovidfiles, '*png'))\n",
        "noncovidimages.extend(glob.glob(os.path.join(noncovidfiles,\"*.jpg\")))"
      ],
      "metadata": {
        "id": "hPSoRd_2Emi1"
      },
      "execution_count": 22,
      "outputs": []
    },
    {
      "cell_type": "code",
      "source": [
        "import cv2\n",
        "import matplotlib.pyplot as plt\n",
        "\n",
        "covid = cv2.imread(os.path.join(covidimages[0]))\n",
        "plt.imshow(covid)"
      ],
      "metadata": {
        "colab": {
          "base_uri": "https://localhost:8080/",
          "height": 287
        },
        "id": "Hf0pLYNFJZ4I",
        "outputId": "52fe9ee0-792d-45a2-ed37-4f0f974d28da"
      },
      "execution_count": 23,
      "outputs": [
        {
          "output_type": "execute_result",
          "data": {
            "text/plain": [
              "<matplotlib.image.AxesImage at 0x7f4a27136700>"
            ]
          },
          "metadata": {},
          "execution_count": 23
        },
        {
          "output_type": "display_data",
          "data": {
            "text/plain": [
              "<Figure size 432x288 with 1 Axes>"
            ],
            "image/png": "[encoded data removed]"
          },
          "metadata": {
            "needs_background": "light"
          }
        }
      ]
    },
    {
      "cell_type": "code",
      "source": [
        "noncovid = cv2.imread(os.path.join(noncovidimages[1]))\n",
        "plt.imshow(noncovid)"
      ],
      "metadata": {
        "colab": {
          "base_uri": "https://localhost:8080/",
          "height": 278
        },
        "id": "duKWmZRuLUpF",
        "outputId": "935d9964-011b-4f56-f897-df69c1dde593"
      },
      "execution_count": 24,
      "outputs": [
        {
          "output_type": "execute_result",
          "data": {
            "text/plain": [
              "<matplotlib.image.AxesImage at 0x7f4a26c71f70>"
            ]
          },
          "metadata": {},
          "execution_count": 24
        },
        {
          "output_type": "display_data",
          "data": {
            "text/plain": [
              "<Figure size 432x288 with 1 Axes>"
            ],
            "image/png": "[encoded data removed]"
          },
          "metadata": {
            "needs_background": "light"
          }
        }
      ]
    },
    {
      "cell_type": "code",
      "source": [
        "print(covid.shape)\n",
        "print(noncovid.shape)"
      ],
      "metadata": {
        "colab": {
          "base_uri": "https://localhost:8080/"
        },
        "id": "YXfhyOwULZxC",
        "outputId": "8b02e9e8-5010-4a09-9451-119e8928aba6"
      },
      "execution_count": 25,
      "outputs": [
        {
          "output_type": "stream",
          "name": "stdout",
          "text": [
            "(920, 926, 3)\n",
            "(272, 436, 3)\n"
          ]
        }
      ]
    },
    {
      "cell_type": "code",
      "source": [
        "totaldata = covidimages + noncovidimages"
      ],
      "metadata": {
        "id": "h-idbN6LNnHj"
      },
      "execution_count": 73,
      "outputs": []
    },
    {
      "cell_type": "code",
      "source": [
        "pip install split-folders"
      ],
      "metadata": {
        "colab": {
          "base_uri": "https://localhost:8080/"
        },
        "id": "hghNdZ-RSEOh",
        "outputId": "d40d75b2-f976-4f6a-b460-59a132fcd0ed"
      },
      "execution_count": 27,
      "outputs": [
        {
          "output_type": "stream",
          "name": "stdout",
          "text": [
            "Looking in indexes: https://pypi.org/simple, https://us-python.pkg.dev/colab-wheels/public/simple/\n",
            "Collecting split-folders\n",
            "  Downloading split_folders-0.5.1-py3-none-any.whl (8.4 kB)\n",
            "Installing collected packages: split-folders\n",
            "Successfully installed split-folders-0.5.1\n"
          ]
        }
      ]
    },
    {
      "cell_type": "code",
      "source": [
        "import splitfolders\n",
        "inputfolder = '/content/images'\n",
        "\n",
        "splitfolders.ratio(inputfolder, output = 'images2', seed = 42, ratio =(0.7, 0.2, 0.1), group_prefix = None)"
      ],
      "metadata": {
        "colab": {
          "base_uri": "https://localhost:8080/"
        },
        "id": "h1Wk2SZCTUdE",
        "outputId": "aa84f50b-2449-4d22-d6ad-ab67903afd44"
      },
      "execution_count": 28,
      "outputs": [
        {
          "output_type": "stream",
          "name": "stderr",
          "text": [
            "Copying files: 746 files [00:00, 2028.74 files/s]\n"
          ]
        }
      ]
    },
    {
      "cell_type": "code",
      "source": [
        "#print total number of images in each dataset\n",
        "covid_train_files = os.listdir('/content/images2/train/CT_COVID')\n",
        "noncovid_train_files = os.listdir('/content/images2/train/CT_NonCOVID')\n",
        "covid_test_files = os.listdir('/content/images2/test/CT_COVID')\n",
        "noncovid_test_files = os.listdir('/content/images2/test/CT_NonCOVID')\n",
        "covid_val_files = os.listdir('/content/images2/val/CT_COVID')\n",
        "noncovid_val_files = os.listdir('/content/images2/val/CT_NonCOVID')\n",
        "\n",
        "print(\"Total number of train COVID images: {}\".format(len(covid_train_files)))\n",
        "print(\"Total number of train Non-COVID images: {}\".format(len(noncovid_train_files)))\n",
        "print(\"Total number of test COVID images: {}\".format(len(covid_test_files)))\n",
        "print(\"Total number of test Non-COVID images: {}\".format(len(noncovid_test_files)))\n",
        "print(\"Total number of val COVID images: {}\".format(len(covid_val_files)))\n",
        "print(\"Total number of val Non-COVID images: {}\".format(len(noncovid_val_files)))"
      ],
      "metadata": {
        "colab": {
          "base_uri": "https://localhost:8080/"
        },
        "id": "YicoOjeJWFfV",
        "outputId": "4ab08f05-5837-4c2d-c527-1c84ec25e393"
      },
      "execution_count": 29,
      "outputs": [
        {
          "output_type": "stream",
          "name": "stdout",
          "text": [
            "Total number of train COVID images: 244\n",
            "Total number of train Non-COVID images: 277\n",
            "Total number of test COVID images: 36\n",
            "Total number of test Non-COVID images: 41\n",
            "Total number of val COVID images: 69\n",
            "Total number of val Non-COVID images: 79\n"
          ]
        }
      ]
    },
    {
      "cell_type": "code",
      "source": [
        "covid_train_files = len(os.listdir('/content/images2/train/CT_COVID'))\n",
        "noncovid_train_files = len(os.listdir('/content/images2/train/CT_NonCOVID'))\n",
        "covid_test_files = len(os.listdir('/content/images2/test/CT_COVID'))\n",
        "noncovid_test_files = len(os.listdir('/content/images2/test/CT_NonCOVID'))\n",
        "covid_val_files = len(os.listdir('/content/images2/val/CT_COVID'))\n",
        "noncovid_val_files = len(os.listdir('/content/images2/val/CT_NonCOVID'))\n",
        "\n",
        "plt.figure(figsize=(12, 12))\n",
        "\n",
        "plt.bar([\"Covid Train Images\", \"Non-Covid Train Images\", \"Covid Test Images\", \"Non-Covid Test Images\", 'Covid Val Images', 'Non-Covid Val Images'], [covid_train_files, noncovid_train_files, covid_test_files, noncovid_test_files, covid_val_files, noncovid_val_files], color=['orange', 'yellow', 'green', 'blue', 'red', 'black'])"
      ],
      "metadata": {
        "colab": {
          "base_uri": "https://localhost:8080/",
          "height": 718
        },
        "id": "UJkkdDBlaa8O",
        "outputId": "3eba1d41-980c-4aef-a942-93af1c564f3f"
      },
      "execution_count": 30,
      "outputs": [
        {
          "output_type": "execute_result",
          "data": {
            "text/plain": [
              "<BarContainer object of 6 artists>"
            ]
          },
          "metadata": {},
          "execution_count": 30
        },
        {
          "output_type": "display_data",
          "data": {
            "text/plain": [
              "<Figure size 864x864 with 1 Axes>"
            ],
            "image/png": "[encoded data removed]"
          },
          "metadata": {
            "needs_background": "light"
          }
        }
      ]
    },
    {
      "cell_type": "code",
      "source": [
        "import numpy as np # linear algebra\n",
        "import random\n",
        "import pandas as pd # data processing, CSV file I/O (e.g. pd.read_csv)\n",
        "import tensorflow as tf"
      ],
      "metadata": {
        "id": "DXcqd6YRcHSz"
      },
      "execution_count": 69,
      "outputs": []
    },
    {
      "cell_type": "code",
      "source": [
        "from tensorflow.keras.models import Sequential\n",
        "from tensorflow.keras.layers import Dense, Conv2D, Flatten, Dropout, MaxPooling2D\n",
        "from tensorflow.keras.preprocessing.image import ImageDataGenerator"
      ],
      "metadata": {
        "id": "UbShYOCB5AbY"
      },
      "execution_count": 70,
      "outputs": []
    },
    {
      "cell_type": "code",
      "source": [
        "data = tf.keras.utils.image_dataset_from_directory('/content/images')"
      ],
      "metadata": {
        "colab": {
          "base_uri": "https://localhost:8080/"
        },
        "id": "7RHh0aPfcK98",
        "outputId": "edff39c2-c2cf-4211-ccd2-69f4a1312a69"
      },
      "execution_count": 33,
      "outputs": [
        {
          "output_type": "stream",
          "name": "stdout",
          "text": [
            "Found 746 files belonging to 2 classes.\n"
          ]
        }
      ]
    },
    {
      "cell_type": "code",
      "source": [
        "data_iterator = data.as_numpy_iterator()"
      ],
      "metadata": {
        "id": "cpmpx8QEb7fq"
      },
      "execution_count": 34,
      "outputs": []
    },
    {
      "cell_type": "code",
      "source": [
        "batch = data_iterator.next()"
      ],
      "metadata": {
        "id": "NCm8qtcWcKyN"
      },
      "execution_count": 35,
      "outputs": []
    },
    {
      "cell_type": "code",
      "source": [
        "data = data.map(lambda x,y: (x/255, y))"
      ],
      "metadata": {
        "id": "SG1HoBFMcOOX"
      },
      "execution_count": 36,
      "outputs": []
    },
    {
      "cell_type": "code",
      "source": [
        "data.as_numpy_iterator().next()"
      ],
      "metadata": {
        "colab": {
          "base_uri": "https://localhost:8080/"
        },
        "id": "yC15-yZncQqi",
        "outputId": "8bd9d532-81e8-4b8f-8353-e8e0f5315923"
      },
      "execution_count": 37,
      "outputs": [
        {
          "output_type": "execute_result",
          "data": {
            "text/plain": [
              "(array([[[[2.18433574e-01, 2.18433574e-01, 2.18433574e-01],\n",
              "          [1.07090667e-01, 1.07090667e-01, 1.07090667e-01],\n",
              "          [1.11940332e-01, 1.11940332e-01, 1.11940332e-01],\n",
              "          ...,\n",
              "          [1.32633641e-01, 1.26092583e-01, 1.19122617e-01],\n",
              "          [8.63859281e-02, 8.16831067e-02, 7.41003901e-02],\n",
              "          [2.29046747e-01, 2.21203610e-01, 2.25125179e-01]],\n",
              " \n",
              "         [[3.03510308e-01, 3.03510308e-01, 3.03510308e-01],\n",
              "          [1.40299127e-01, 1.40299127e-01, 1.40299127e-01],\n",
              "          [1.42025039e-01, 1.42025039e-01, 1.42025039e-01],\n",
              "          ...,\n",
              "          [1.63890764e-01, 1.57349706e-01, 1.50379732e-01],\n",
              "          [1.53395176e-01, 1.48692355e-01, 1.41109630e-01],\n",
              "          [3.19577217e-01, 3.11734080e-01, 3.15655649e-01]],\n",
              " \n",
              "         [[3.03546786e-01, 3.03546786e-01, 3.03546786e-01],\n",
              "          [1.40695542e-01, 1.40695542e-01, 1.40695542e-01],\n",
              "          [1.42105520e-01, 1.42105520e-01, 1.42105520e-01],\n",
              "          ...,\n",
              "          [1.88194722e-01, 1.81653664e-01, 1.74683690e-01],\n",
              "          [1.76485911e-01, 1.71783090e-01, 1.64200366e-01],\n",
              "          [3.29183072e-01, 3.21339935e-01, 3.25261503e-01]],\n",
              " \n",
              "         ...,\n",
              " \n",
              "         [[5.17902553e-01, 5.17902553e-01, 5.17902553e-01],\n",
              "          [6.93223119e-01, 6.93223119e-01, 6.93223119e-01],\n",
              "          [7.07389772e-01, 7.07389772e-01, 7.07389772e-01],\n",
              "          ...,\n",
              "          [6.74418330e-01, 6.74418330e-01, 6.74418330e-01],\n",
              "          [7.03853846e-01, 7.03853846e-01, 7.03853846e-01],\n",
              "          [5.50139427e-01, 5.50139427e-01, 5.50139427e-01]],\n",
              " \n",
              "         [[6.47990048e-01, 6.47990048e-01, 6.47990048e-01],\n",
              "          [9.86452758e-01, 9.86452758e-01, 9.86452758e-01],\n",
              "          [9.75147128e-01, 9.75147128e-01, 9.75147128e-01],\n",
              "          ...,\n",
              "          [9.79720950e-01, 9.79720950e-01, 9.79720950e-01],\n",
              "          [1.00000000e+00, 1.00000000e+00, 1.00000000e+00],\n",
              "          [6.58135176e-01, 6.58135176e-01, 6.58135176e-01]],\n",
              " \n",
              "         [[6.45078242e-01, 6.45078242e-01, 6.45078242e-01],\n",
              "          [9.49261487e-01, 9.49261487e-01, 9.49261487e-01],\n",
              "          [9.75649416e-01, 9.75649416e-01, 9.75649416e-01],\n",
              "          ...,\n",
              "          [9.85458314e-01, 9.85458314e-01, 9.85458314e-01],\n",
              "          [9.65845525e-01, 9.65845525e-01, 9.65845525e-01],\n",
              "          [6.35859847e-01, 6.35859847e-01, 6.35859847e-01]]],\n",
              " \n",
              " \n",
              "        [[[6.74862146e-01, 6.74862146e-01, 6.74862146e-01],\n",
              "          [6.94117665e-01, 6.94117665e-01, 6.94117665e-01],\n",
              "          [7.01240838e-01, 7.01240838e-01, 7.01240838e-01],\n",
              "          ...,\n",
              "          [7.04082429e-01, 7.04082429e-01, 7.04082429e-01],\n",
              "          [6.98766828e-01, 6.98766828e-01, 6.98766828e-01],\n",
              "          [6.88051462e-01, 6.88051462e-01, 6.88051462e-01]],\n",
              " \n",
              "         [[2.25267962e-01, 2.25267962e-01, 2.25267962e-01],\n",
              "          [2.15524077e-01, 2.15524077e-01, 2.15524077e-01],\n",
              "          [2.09283322e-01, 2.09283322e-01, 2.09283322e-01],\n",
              "          ...,\n",
              "          [2.22457767e-01, 2.22457767e-01, 2.22457767e-01],\n",
              "          [2.17163712e-01, 2.17163712e-01, 2.17163712e-01],\n",
              "          [2.12438822e-01, 2.12438822e-01, 2.12438822e-01]],\n",
              " \n",
              "         [[1.71699062e-01, 1.71699062e-01, 1.71699062e-01],\n",
              "          [1.74273044e-01, 1.74273044e-01, 1.74273044e-01],\n",
              "          [1.68711334e-01, 1.68711334e-01, 1.68711334e-01],\n",
              "          ...,\n",
              "          [1.75918370e-01, 1.75918370e-01, 1.75918370e-01],\n",
              "          [1.73797935e-01, 1.73797935e-01, 1.73797935e-01],\n",
              "          [2.00045064e-01, 2.00045064e-01, 2.00045064e-01]],\n",
              " \n",
              "         ...,\n",
              " \n",
              "         [[1.36715006e-02, 1.36715006e-02, 1.36715006e-02],\n",
              "          [9.36035439e-03, 9.36035439e-03, 9.36035439e-03],\n",
              "          [3.32077616e-03, 3.32077616e-03, 3.32077616e-03],\n",
              "          ...,\n",
              "          [0.00000000e+00, 0.00000000e+00, 0.00000000e+00],\n",
              "          [0.00000000e+00, 0.00000000e+00, 0.00000000e+00],\n",
              "          [2.34989990e-02, 2.34989990e-02, 2.34989990e-02]],\n",
              " \n",
              "         [[1.29827615e-02, 1.29827615e-02, 1.29827615e-02],\n",
              "          [1.54113472e-02, 1.54113472e-02, 1.54113472e-02],\n",
              "          [3.29728983e-02, 3.29728983e-02, 3.29728983e-02],\n",
              "          ...,\n",
              "          [9.60477907e-03, 9.60477907e-03, 9.60477907e-03],\n",
              "          [9.60477907e-03, 9.60477907e-03, 9.60477907e-03],\n",
              "          [4.16973047e-02, 4.16973047e-02, 4.16973047e-02]],\n",
              " \n",
              "         [[1.60071999e-01, 1.60071999e-01, 1.60071999e-01],\n",
              "          [1.35493264e-01, 1.35493264e-01, 1.35493264e-01],\n",
              "          [1.49701282e-01, 1.49701282e-01, 1.49701282e-01],\n",
              "          ...,\n",
              "          [1.49019614e-01, 1.49019614e-01, 1.49019614e-01],\n",
              "          [1.49019614e-01, 1.49019614e-01, 1.49019614e-01],\n",
              "          [1.81112126e-01, 1.81112126e-01, 1.81112126e-01]]],\n",
              " \n",
              " \n",
              "        [[[0.00000000e+00, 0.00000000e+00, 0.00000000e+00],\n",
              "          [0.00000000e+00, 0.00000000e+00, 0.00000000e+00],\n",
              "          [0.00000000e+00, 0.00000000e+00, 0.00000000e+00],\n",
              "          ...,\n",
              "          [0.00000000e+00, 0.00000000e+00, 0.00000000e+00],\n",
              "          [0.00000000e+00, 0.00000000e+00, 0.00000000e+00],\n",
              "          [0.00000000e+00, 0.00000000e+00, 0.00000000e+00]],\n",
              " \n",
              "         [[0.00000000e+00, 0.00000000e+00, 0.00000000e+00],\n",
              "          [0.00000000e+00, 0.00000000e+00, 0.00000000e+00],\n",
              "          [0.00000000e+00, 0.00000000e+00, 0.00000000e+00],\n",
              "          ...,\n",
              "          [0.00000000e+00, 0.00000000e+00, 0.00000000e+00],\n",
              "          [0.00000000e+00, 0.00000000e+00, 0.00000000e+00],\n",
              "          [0.00000000e+00, 0.00000000e+00, 0.00000000e+00]],\n",
              " \n",
              "         [[0.00000000e+00, 0.00000000e+00, 0.00000000e+00],\n",
              "          [0.00000000e+00, 0.00000000e+00, 0.00000000e+00],\n",
              "          [0.00000000e+00, 0.00000000e+00, 0.00000000e+00],\n",
              "          ...,\n",
              "          [0.00000000e+00, 0.00000000e+00, 0.00000000e+00],\n",
              "          [0.00000000e+00, 0.00000000e+00, 0.00000000e+00],\n",
              "          [0.00000000e+00, 0.00000000e+00, 0.00000000e+00]],\n",
              " \n",
              "         ...,\n",
              " \n",
              "         [[0.00000000e+00, 0.00000000e+00, 0.00000000e+00],\n",
              "          [0.00000000e+00, 0.00000000e+00, 0.00000000e+00],\n",
              "          [1.35736205e-02, 1.35736205e-02, 1.35736205e-02],\n",
              "          ...,\n",
              "          [0.00000000e+00, 0.00000000e+00, 0.00000000e+00],\n",
              "          [0.00000000e+00, 0.00000000e+00, 0.00000000e+00],\n",
              "          [0.00000000e+00, 0.00000000e+00, 0.00000000e+00]],\n",
              " \n",
              "         [[0.00000000e+00, 0.00000000e+00, 0.00000000e+00],\n",
              "          [0.00000000e+00, 0.00000000e+00, 0.00000000e+00],\n",
              "          [8.88480397e-04, 8.88480397e-04, 8.88480397e-04],\n",
              "          ...,\n",
              "          [0.00000000e+00, 0.00000000e+00, 0.00000000e+00],\n",
              "          [0.00000000e+00, 0.00000000e+00, 0.00000000e+00],\n",
              "          [0.00000000e+00, 0.00000000e+00, 0.00000000e+00]],\n",
              " \n",
              "         [[0.00000000e+00, 0.00000000e+00, 0.00000000e+00],\n",
              "          [0.00000000e+00, 0.00000000e+00, 0.00000000e+00],\n",
              "          [1.49236934e-04, 1.49236934e-04, 1.49236934e-04],\n",
              "          ...,\n",
              "          [0.00000000e+00, 0.00000000e+00, 0.00000000e+00],\n",
              "          [0.00000000e+00, 0.00000000e+00, 0.00000000e+00],\n",
              "          [0.00000000e+00, 0.00000000e+00, 0.00000000e+00]]],\n",
              " \n",
              " \n",
              "        ...,\n",
              " \n",
              " \n",
              "        [[[3.01960796e-01, 3.01960796e-01, 3.01960796e-01],\n",
              "          [2.84727335e-01, 2.84727335e-01, 2.84727335e-01],\n",
              "          [2.71453738e-01, 2.71453738e-01, 2.71453738e-01],\n",
              "          ...,\n",
              "          [2.79702812e-01, 2.79702812e-01, 2.79702812e-01],\n",
              "          [2.75283396e-01, 2.75283396e-01, 2.75283396e-01],\n",
              "          [2.84451604e-01, 2.84451604e-01, 2.84451604e-01]],\n",
              " \n",
              "         [[2.93589354e-01, 2.93589354e-01, 2.93589354e-01],\n",
              "          [2.87431270e-01, 2.87431270e-01, 2.87431270e-01],\n",
              "          [2.68576741e-01, 2.68576741e-01, 2.68576741e-01],\n",
              "          ...,\n",
              "          [2.79320657e-01, 2.79320657e-01, 2.79320657e-01],\n",
              "          [3.08509499e-01, 3.08509499e-01, 3.08509499e-01],\n",
              "          [2.86982477e-01, 2.86982477e-01, 2.86982477e-01]],\n",
              " \n",
              "         [[2.91340500e-01, 2.91340500e-01, 2.91340500e-01],\n",
              "          [2.80522376e-01, 2.80522376e-01, 2.80522376e-01],\n",
              "          [2.70740628e-01, 2.70740628e-01, 2.70740628e-01],\n",
              "          ...,\n",
              "          [2.84397453e-01, 2.84397453e-01, 2.84397453e-01],\n",
              "          [3.06092054e-01, 3.06092054e-01, 3.06092054e-01],\n",
              "          [2.85412192e-01, 2.85412192e-01, 2.85412192e-01]],\n",
              " \n",
              "         ...,\n",
              " \n",
              "         [[3.11159343e-01, 3.11159343e-01, 3.11159343e-01],\n",
              "          [3.18512559e-01, 3.18512559e-01, 3.18512559e-01],\n",
              "          [3.20334941e-01, 3.20334941e-01, 3.20334941e-01],\n",
              "          ...,\n",
              "          [3.27174157e-01, 3.27174157e-01, 3.27174157e-01],\n",
              "          [2.99954057e-01, 2.99954057e-01, 2.99954057e-01],\n",
              "          [3.17090571e-01, 3.17090571e-01, 3.17090571e-01]],\n",
              " \n",
              "         [[3.64223123e-01, 3.64223123e-01, 3.64223123e-01],\n",
              "          [3.58387381e-01, 3.58387381e-01, 3.58387381e-01],\n",
              "          [3.55418831e-01, 3.55418831e-01, 3.55418831e-01],\n",
              "          ...,\n",
              "          [3.85391831e-01, 3.85391831e-01, 3.85391831e-01],\n",
              "          [3.40854794e-01, 3.40854794e-01, 3.40854794e-01],\n",
              "          [3.76088858e-01, 3.76088858e-01, 3.76088858e-01]],\n",
              " \n",
              "         [[7.17647076e-01, 7.17647076e-01, 7.17647076e-01],\n",
              "          [7.14774787e-01, 7.14774787e-01, 7.14774787e-01],\n",
              "          [7.16781557e-01, 7.16781557e-01, 7.16781557e-01],\n",
              "          ...,\n",
              "          [7.45557606e-01, 7.45557606e-01, 7.45557606e-01],\n",
              "          [7.13725507e-01, 7.13725507e-01, 7.13725507e-01],\n",
              "          [6.95940554e-01, 6.95940554e-01, 6.95940554e-01]]],\n",
              " \n",
              " \n",
              "        [[[1.66177139e-01, 1.66177139e-01, 1.66177139e-01],\n",
              "          [1.94134980e-01, 1.94134980e-01, 1.94134980e-01],\n",
              "          [2.05797166e-01, 2.05797166e-01, 2.05797166e-01],\n",
              "          ...,\n",
              "          [2.12799639e-01, 2.12799639e-01, 2.12799639e-01],\n",
              "          [2.07506120e-01, 2.07506120e-01, 2.07506120e-01],\n",
              "          [1.95236579e-01, 1.95236579e-01, 1.95236579e-01]],\n",
              " \n",
              "         [[1.76868871e-01, 1.76868871e-01, 1.76868871e-01],\n",
              "          [1.99042588e-01, 1.99042588e-01, 1.99042588e-01],\n",
              "          [2.05981925e-01, 2.05981925e-01, 2.05981925e-01],\n",
              "          ...,\n",
              "          [2.20935687e-01, 2.20935687e-01, 2.20935687e-01],\n",
              "          [2.10629523e-01, 2.10629523e-01, 2.10629523e-01],\n",
              "          [2.02276841e-01, 2.02276841e-01, 2.02276841e-01]],\n",
              " \n",
              "         [[1.78941175e-01, 1.78941175e-01, 1.78941175e-01],\n",
              "          [2.00860277e-01, 2.00860277e-01, 2.00860277e-01],\n",
              "          [2.05981925e-01, 2.05981925e-01, 2.05981925e-01],\n",
              "          ...,\n",
              "          [2.07314640e-01, 2.07314640e-01, 2.07314640e-01],\n",
              "          [1.92792580e-01, 1.92792580e-01, 1.92792580e-01],\n",
              "          [1.91321075e-01, 1.91321075e-01, 1.91321075e-01]],\n",
              " \n",
              "         ...,\n",
              " \n",
              "         [[1.80816785e-01, 1.80816785e-01, 1.80816785e-01],\n",
              "          [2.05563098e-01, 2.05563098e-01, 2.05563098e-01],\n",
              "          [1.96822897e-01, 1.96822897e-01, 1.96822897e-01],\n",
              "          ...,\n",
              "          [2.95264274e-01, 2.95264274e-01, 2.95264274e-01],\n",
              "          [2.23616078e-01, 2.23616078e-01, 2.23616078e-01],\n",
              "          [1.92463234e-01, 1.92463234e-01, 1.92463234e-01]],\n",
              " \n",
              "         [[1.74660966e-01, 1.74660966e-01, 1.74660966e-01],\n",
              "          [1.99494481e-01, 1.99494481e-01, 1.99494481e-01],\n",
              "          [1.96078435e-01, 1.96078435e-01, 1.96078435e-01],\n",
              "          ...,\n",
              "          [1.96373641e-01, 1.96373641e-01, 1.96373641e-01],\n",
              "          [2.19376460e-01, 2.19376460e-01, 2.19376460e-01],\n",
              "          [2.18330339e-01, 2.18330339e-01, 2.18330339e-01]],\n",
              " \n",
              "         [[1.81686580e-01, 1.81686580e-01, 1.81686580e-01],\n",
              "          [2.02701718e-01, 2.02701718e-01, 2.02701718e-01],\n",
              "          [1.94351718e-01, 1.94351718e-01, 1.94351718e-01],\n",
              "          ...,\n",
              "          [2.37868235e-01, 2.37868235e-01, 2.37868235e-01],\n",
              "          [2.05622777e-01, 2.05622777e-01, 2.05622777e-01],\n",
              "          [1.85001716e-01, 1.85001716e-01, 1.85001716e-01]]],\n",
              " \n",
              " \n",
              "        [[[3.92156886e-03, 3.92156886e-03, 3.92156886e-03],\n",
              "          [3.92156886e-03, 3.92156886e-03, 3.92156886e-03],\n",
              "          [3.92156886e-03, 3.92156886e-03, 3.92156886e-03],\n",
              "          ...,\n",
              "          [3.92156886e-03, 3.92156886e-03, 3.92156886e-03],\n",
              "          [3.92156886e-03, 3.92156886e-03, 3.92156886e-03],\n",
              "          [3.92156886e-03, 3.92156886e-03, 3.92156886e-03]],\n",
              " \n",
              "         [[3.92156886e-03, 3.92156886e-03, 3.92156886e-03],\n",
              "          [3.92156886e-03, 3.92156886e-03, 3.92156886e-03],\n",
              "          [3.92156886e-03, 3.92156886e-03, 3.92156886e-03],\n",
              "          ...,\n",
              "          [3.92156886e-03, 3.92156886e-03, 3.92156886e-03],\n",
              "          [3.92156886e-03, 3.92156886e-03, 3.92156886e-03],\n",
              "          [3.92156886e-03, 3.92156886e-03, 3.92156886e-03]],\n",
              " \n",
              "         [[3.92156886e-03, 3.92156886e-03, 3.92156886e-03],\n",
              "          [3.92156886e-03, 3.92156886e-03, 3.92156886e-03],\n",
              "          [3.92156886e-03, 3.92156886e-03, 3.92156886e-03],\n",
              "          ...,\n",
              "          [3.92156886e-03, 3.92156886e-03, 3.92156886e-03],\n",
              "          [3.92156886e-03, 3.92156886e-03, 3.92156886e-03],\n",
              "          [3.92156886e-03, 3.92156886e-03, 3.92156886e-03]],\n",
              " \n",
              "         ...,\n",
              " \n",
              "         [[3.92156886e-03, 3.92156886e-03, 3.92156886e-03],\n",
              "          [3.92156886e-03, 3.92156886e-03, 3.92156886e-03],\n",
              "          [3.92156886e-03, 3.92156886e-03, 3.92156886e-03],\n",
              "          ...,\n",
              "          [3.92156886e-03, 3.92156886e-03, 3.92156886e-03],\n",
              "          [3.92156886e-03, 3.92156886e-03, 3.92156886e-03],\n",
              "          [3.92156886e-03, 3.92156886e-03, 3.92156886e-03]],\n",
              " \n",
              "         [[3.92156886e-03, 3.92156886e-03, 3.92156886e-03],\n",
              "          [3.92156886e-03, 3.92156886e-03, 3.92156886e-03],\n",
              "          [3.92156886e-03, 3.92156886e-03, 3.92156886e-03],\n",
              "          ...,\n",
              "          [3.92156886e-03, 3.92156886e-03, 3.92156886e-03],\n",
              "          [3.92156886e-03, 3.92156886e-03, 3.92156886e-03],\n",
              "          [3.92156886e-03, 3.92156886e-03, 3.92156886e-03]],\n",
              " \n",
              "         [[3.92156886e-03, 3.92156886e-03, 3.92156886e-03],\n",
              "          [3.92156886e-03, 3.92156886e-03, 3.92156886e-03],\n",
              "          [3.92156886e-03, 3.92156886e-03, 3.92156886e-03],\n",
              "          ...,\n",
              "          [3.92156886e-03, 3.92156886e-03, 3.92156886e-03],\n",
              "          [3.92156886e-03, 3.92156886e-03, 3.92156886e-03],\n",
              "          [3.92156886e-03, 3.92156886e-03, 3.92156886e-03]]]],\n",
              "       dtype=float32),\n",
              " array([1, 1, 1, 0, 1, 1, 1, 0, 0, 0, 0, 0, 0, 0, 1, 0, 0, 1, 0, 0, 0, 0,\n",
              "        1, 1, 1, 1, 1, 0, 0, 1, 0, 1], dtype=int32))"
            ]
          },
          "metadata": {},
          "execution_count": 37
        }
      ]
    },
    {
      "cell_type": "code",
      "source": [
        "train = data.take(int(len(os.listdir('/content/images2/train'))))\n",
        "test = data.take(int(len(os.listdir('/content/images2/test'))))\n",
        "val = data.take(int(len(os.listdir('/content/images2/val'))))\n",
        "\n",
        "print(train, test, val)"
      ],
      "metadata": {
        "colab": {
          "base_uri": "https://localhost:8080/"
        },
        "id": "GILLP9dvcT3G",
        "outputId": "71141722-f039-4f0e-8085-fe46b3197294"
      },
      "execution_count": 42,
      "outputs": [
        {
          "output_type": "stream",
          "name": "stdout",
          "text": [
            "<TakeDataset element_spec=(TensorSpec(shape=(None, 256, 256, 3), dtype=tf.float32, name=None), TensorSpec(shape=(None,), dtype=tf.int32, name=None))> <TakeDataset element_spec=(TensorSpec(shape=(None, 256, 256, 3), dtype=tf.float32, name=None), TensorSpec(shape=(None,), dtype=tf.int32, name=None))> <TakeDataset element_spec=(TensorSpec(shape=(None, 256, 256, 3), dtype=tf.float32, name=None), TensorSpec(shape=(None,), dtype=tf.int32, name=None))>\n"
          ]
        }
      ]
    },
    {
      "cell_type": "code",
      "source": [
        "batch_size = 128\n",
        "imgheight = 150\n",
        "imgwidth = 150"
      ],
      "metadata": {
        "id": "6PONfpnxcxYK"
      },
      "execution_count": 51,
      "outputs": []
    },
    {
      "cell_type": "code",
      "source": [
        "model = Sequential([\n",
        "    Conv2D(16, 3, padding='same', activation='relu', input_shape=(imgheight, imgwidth ,3)),\n",
        "    MaxPooling2D(),\n",
        "    Conv2D(32, 3, padding='same', activation='relu'),\n",
        "    MaxPooling2D(),\n",
        "    Conv2D(64, 3, padding='same', activation='relu'),\n",
        "    MaxPooling2D(),\n",
        "    Flatten(),\n",
        "    Dense(512, activation='relu'),\n",
        "    Dense(1)\n",
        "])"
      ],
      "metadata": {
        "id": "7dqvIbw3dIoT"
      },
      "execution_count": 45,
      "outputs": []
    },
    {
      "cell_type": "code",
      "source": [
        "model.compile(optimizer='adam', loss=tf.losses.BinaryCrossentropy(from_logits=True), metrics=['accuracy'])"
      ],
      "metadata": {
        "id": "7ceuSUUBdVG-"
      },
      "execution_count": 86,
      "outputs": []
    },
    {
      "cell_type": "code",
      "source": [
        "model.summary()"
      ],
      "metadata": {
        "colab": {
          "base_uri": "https://localhost:8080/"
        },
        "id": "biahpaB7dmmk",
        "outputId": "d00e36cb-aed4-49b1-ca00-1ee978193e26"
      },
      "execution_count": 87,
      "outputs": [
        {
          "output_type": "stream",
          "name": "stdout",
          "text": [
            "Model: \"sequential\"\n",
            "_________________________________________________________________\n",
            " Layer (type)                Output Shape              Param #   \n",
            "=================================================================\n",
            " conv2d (Conv2D)             (None, 150, 150, 16)      448       \n",
            "                                                                 \n",
            " max_pooling2d (MaxPooling2D  (None, 75, 75, 16)       0         \n",
            " )                                                               \n",
            "                                                                 \n",
            " conv2d_1 (Conv2D)           (None, 75, 75, 32)        4640      \n",
            "                                                                 \n",
            " max_pooling2d_1 (MaxPooling  (None, 37, 37, 32)       0         \n",
            " 2D)                                                             \n",
            "                                                                 \n",
            " conv2d_2 (Conv2D)           (None, 37, 37, 64)        18496     \n",
            "                                                                 \n",
            " max_pooling2d_2 (MaxPooling  (None, 18, 18, 64)       0         \n",
            " 2D)                                                             \n",
            "                                                                 \n",
            " flatten (Flatten)           (None, 20736)             0         \n",
            "                                                                 \n",
            " dense (Dense)               (None, 512)               10617344  \n",
            "                                                                 \n",
            " dense_1 (Dense)             (None, 1)                 513       \n",
            "                                                                 \n",
            "=================================================================\n",
            "Total params: 10,641,441\n",
            "Trainable params: 10,641,441\n",
            "Non-trainable params: 0\n",
            "_________________________________________________________________\n"
          ]
        }
      ]
    },
    {
      "cell_type": "code",
      "source": [
        "logdirs = 'logs'\n",
        "callbacks = tf.keras.callbacks.TensorBoard(log_dir=logdirs)\n",
        "\n",
        "\n",
        "traindir = '/content/images2/train'\n",
        "testdir = '/content/images2/test'\n",
        "valdir = '/content/images2/val'\n",
        "trainimagerescaler = ImageDataGenerator(rescale=1./255)\n",
        "testimagerescaler = ImageDataGenerator(rescale=1./255)\n",
        "valimagerescaler = ImageDataGenerator(rescale=1./255)\n",
        "\n",
        "\n",
        "traindata = trainimagerescaler.flow_from_directory(batch_size= 128, directory= traindir, shuffle=True,target_size=(imgheight, imgwidth),class_mode='binary')\n",
        "testdata = testimagerescaler.flow_from_directory(batch_size= 128, directory= testdir, shuffle=True,target_size=(imgheight, imgwidth),class_mode='binary')\n",
        "valdata = valimagerescaler.flow_from_directory(batch_size= 128, directory= valdir, shuffle=True,target_size=(imgheight, imgwidth),class_mode='binary')\n",
        "                                                                                                              "
      ],
      "metadata": {
        "colab": {
          "base_uri": "https://localhost:8080/"
        },
        "id": "5btsd0rId10w",
        "outputId": "1e64678f-a98b-4ba8-b6cc-09f1974a9894"
      },
      "execution_count": 81,
      "outputs": [
        {
          "output_type": "stream",
          "name": "stdout",
          "text": [
            "Found 521 images belonging to 2 classes.\n",
            "Found 77 images belonging to 2 classes.\n",
            "Found 148 images belonging to 2 classes.\n"
          ]
        }
      ]
    },
    {
      "cell_type": "code",
      "source": [
        "totaltrainimgs = covid_train_files + noncovid_train_files\n",
        "totaltestimgs = covid_test_files + noncovid_test_files\n",
        "totalvalimgs = covid_val_files + noncovid_val_files\n",
        "print(totaltrainimgs, totaltestimgs, totalvalimgs)"
      ],
      "metadata": {
        "colab": {
          "base_uri": "https://localhost:8080/"
        },
        "id": "-a5SbTUdn27p",
        "outputId": "e8b6dce5-f275-4824-fd0d-c4a754862065"
      },
      "execution_count": 82,
      "outputs": [
        {
          "output_type": "stream",
          "name": "stdout",
          "text": [
            "521 77 148\n"
          ]
        }
      ]
    },
    {
      "cell_type": "code",
      "source": [
        "results = model.fit(traindata, epochs=20, validation_data=valdata, callbacks=[callbacks])"
      ],
      "metadata": {
        "colab": {
          "base_uri": "https://localhost:8080/"
        },
        "id": "l2m_LJ-Q-pTo",
        "outputId": "c119ec16-39a0-4f05-a9fa-7e4a105cd77e"
      },
      "execution_count": 89,
      "outputs": [
        {
          "output_type": "stream",
          "name": "stdout",
          "text": [
            "Epoch 1/20\n",
            "5/5 [==============================] - 19s 4s/step - loss: 0.6792 - accuracy: 0.5432 - val_loss: 0.6622 - val_accuracy: 0.4932\n",
            "Epoch 2/20\n",
            "5/5 [==============================] - 17s 3s/step - loss: 0.6424 - accuracy: 0.5547 - val_loss: 0.6217 - val_accuracy: 0.7027\n",
            "Epoch 3/20\n",
            "5/5 [==============================] - 17s 3s/step - loss: 0.6155 - accuracy: 0.6219 - val_loss: 0.6357 - val_accuracy: 0.4932\n",
            "Epoch 4/20\n",
            "5/5 [==============================] - 17s 3s/step - loss: 0.6338 - accuracy: 0.5202 - val_loss: 0.6126 - val_accuracy: 0.5135\n",
            "Epoch 5/20\n",
            "5/5 [==============================] - 17s 4s/step - loss: 0.5922 - accuracy: 0.6564 - val_loss: 0.5872 - val_accuracy: 0.6081\n",
            "Epoch 6/20\n",
            "5/5 [==============================] - 21s 3s/step - loss: 0.5644 - accuracy: 0.5988 - val_loss: 0.5460 - val_accuracy: 0.6959\n",
            "Epoch 7/20\n",
            "5/5 [==============================] - 17s 3s/step - loss: 0.5195 - accuracy: 0.7466 - val_loss: 0.5185 - val_accuracy: 0.6757\n",
            "Epoch 8/20\n",
            "5/5 [==============================] - 16s 3s/step - loss: 0.4656 - accuracy: 0.7370 - val_loss: 0.4929 - val_accuracy: 0.7297\n",
            "Epoch 9/20\n",
            "5/5 [==============================] - 17s 4s/step - loss: 0.4138 - accuracy: 0.7678 - val_loss: 0.5371 - val_accuracy: 0.7770\n",
            "Epoch 10/20\n",
            "5/5 [==============================] - 16s 4s/step - loss: 0.3838 - accuracy: 0.7985 - val_loss: 0.5314 - val_accuracy: 0.7297\n",
            "Epoch 11/20\n",
            "5/5 [==============================] - 17s 3s/step - loss: 0.3336 - accuracy: 0.8196 - val_loss: 0.4813 - val_accuracy: 0.7770\n",
            "Epoch 12/20\n",
            "5/5 [==============================] - 17s 3s/step - loss: 0.3083 - accuracy: 0.8541 - val_loss: 0.5012 - val_accuracy: 0.7838\n",
            "Epoch 13/20\n",
            "5/5 [==============================] - 17s 3s/step - loss: 0.2771 - accuracy: 0.8906 - val_loss: 0.5324 - val_accuracy: 0.8243\n",
            "Epoch 14/20\n",
            "5/5 [==============================] - 17s 3s/step - loss: 0.2432 - accuracy: 0.8868 - val_loss: 0.5069 - val_accuracy: 0.8041\n",
            "Epoch 15/20\n",
            "5/5 [==============================] - 17s 3s/step - loss: 0.2245 - accuracy: 0.8848 - val_loss: 0.5039 - val_accuracy: 0.7973\n",
            "Epoch 16/20\n",
            "5/5 [==============================] - 19s 5s/step - loss: 0.1874 - accuracy: 0.9194 - val_loss: 0.5783 - val_accuracy: 0.7973\n",
            "Epoch 17/20\n",
            "5/5 [==============================] - 16s 3s/step - loss: 0.1525 - accuracy: 0.9405 - val_loss: 0.5169 - val_accuracy: 0.8176\n",
            "Epoch 18/20\n",
            "5/5 [==============================] - 17s 3s/step - loss: 0.1167 - accuracy: 0.9674 - val_loss: 0.5308 - val_accuracy: 0.8108\n",
            "Epoch 19/20\n",
            "5/5 [==============================] - 16s 4s/step - loss: 0.1262 - accuracy: 0.9405 - val_loss: 0.6258 - val_accuracy: 0.8176\n",
            "Epoch 20/20\n",
            "5/5 [==============================] - 16s 3s/step - loss: 0.1202 - accuracy: 0.9578 - val_loss: 0.6205 - val_accuracy: 0.7905\n"
          ]
        }
      ]
    }
  ]
}